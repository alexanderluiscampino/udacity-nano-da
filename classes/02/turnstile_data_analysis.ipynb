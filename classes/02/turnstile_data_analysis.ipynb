{
 "worksheets": [
  {
   "cells": [
    {
     "cell_type": "heading",
     "metadata": {},
     "level": 1,
     "source": [
      "Analyzing the NYC Subway Dataset"
     ]
    },
    {
     "cell_type": "heading",
     "metadata": {},
     "level": 2,
     "source": [
      "Section 0. References"
     ]
    },
    {
     "cell_type": "markdown",
     "metadata": {},
     "source": [
      "* Mann-Whitney test: http://www.ncbi.nlm.nih.gov/pmc/articles/PMC1120984/\n",
      "* Plotting in Pandas: http://pandas.pydata.org/pandas-docs/stable/visualization.html\n",
      "* Statistical significance: http://www.graphpad.com/guides/prism/6/statistics/index.htm?extremely_significant_results.htm\n",
      "* Ggplot: http://blog.yhathq.com/posts/ggplot-0.4-released.html"
     ]
    },
    {
     "cell_type": "heading",
     "metadata": {},
     "level": 2,
     "source": [
      "Section 1. Statistical Test"
     ]
    },
    {
     "cell_type": "markdown",
     "metadata": {},
     "source": [
      "1.1. Which statistical test did you use to analyze the NYC subway data? Did you use a one-tail or a two-tail P value? What is the null hypothesis? What is your p-critical value?"
     ]
    },
    {
     "cell_type": "code",
     "execution_count": null,
     "metadata": {},
     "outputs": [],
     "input": [
      "%matplotlib inline\n",
      "import pandas as pd\n",
      "import ggplot as gg\n",
      "import numpy as np\n",
      "import matplotlib.pyplot as plt\n",
      "import scipy.stats\n",
      "import statsmodels.api as sm\n",
      "from ggplot import *"
     ],
     "language": "python",
     "prompt_number": 3
    },
    {
     "cell_type": "code",
     "execution_count": null,
     "metadata": {},
     "outputs": [],
     "input": [
      "df = pd.read_csv('~/src/udacity-nano-da-03/data/turnstile_data_master_with_weather.csv')\n",
      "df_r = df[df['rain'] == 1]  # rain\n",
      "df_n = df[df['rain'] == 0]  # no rain"
     ],
     "language": "python",
     "prompt_number": 4
    },
    {
     "cell_type": "markdown",
     "metadata": {},
     "source": [
      "Because our data is not distributed normally (plots in section 3 show this), we use Mann-Whitney U-test. Null hypothesis: weather has no influence on ridership on NYC subway. P-critical is 0.05. We're using a two-tailed P value because we don't make assumptions which way the ridership will be affected."
     ]
    },
    {
     "cell_type": "markdown",
     "metadata": {},
     "source": [
      "1.2 Why is this statistical test applicable to the dataset? In particular, consider the assumptions that the test is making about the distribution of ridership in the two samples.\n",
      "\n",
      "This test is applicable because we have samples without normal distribution."
     ]
    },
    {
     "cell_type": "markdown",
     "metadata": {},
     "source": [
      "1.3 What results did you get from this statistical test? These should include the following numerical values: p-values, as well as the means for each of the two samples under test."
     ]
    },
    {
     "cell_type": "code",
     "execution_count": null,
     "metadata": {},
     "outputs": [
      {
       "output_type": "stream",
       "stream": "stdout",
       "text": [
        "Mean with rain: 1105.44637675\nMean without rain: 1090.27878015\nU: 1924409167.0\np: 0.0249999127935\n"
       ]
      }
     ],
     "input": [
      "U, p = scipy.stats.mannwhitneyu(df_r['ENTRIESn_hourly'], df_n['ENTRIESn_hourly'])\n",
      "m_r = np.mean(df_r['ENTRIESn_hourly'])\n",
      "m_n = np.mean(df_n['ENTRIESn_hourly'])\n",
      "print \"Mean with rain: {0}\".format(m_r)\n",
      "print \"Mean without rain: {0}\".format(m_n)\n",
      "print \"U: {0}\".format(U)\n",
      "print \"p: {0}\".format(p)"
     ],
     "language": "python",
     "prompt_number": 5
    },
    {
     "cell_type": "markdown",
     "metadata": {},
     "source": [
      "1.4 What is the significance and interpretation of these results?\n",
      "\n",
      "Our means are pretty close, but the U-value is really large. Additionally, the probability of observing this U-value if the null hypothesis was true is only 0.02, which is less than critical value of 0.05. This means that the two populations that we compared are significantly different."
     ]
    },
    {
     "cell_type": "heading",
     "metadata": {},
     "level": 2,
     "source": [
      "Section 2. Linear Regression"
     ]
    },
    {
     "cell_type": "markdown",
     "metadata": {},
     "source": [
      "2.1 What approach did you use to compute the coefficients theta and produce prediction for ENTRIESn_hourly in your regression model:\n",
      "\n",
      "* OLS using Statsmodels or Scikit Learn\n",
      "* Gradient descent using Scikit Learn\n",
      "* Or something different?\n",
      "\n",
      "I used OLS from Statsmodels.\n"
     ]
    },
    {
     "cell_type": "markdown",
     "metadata": {},
     "source": [
      "2.2 What features (input variables) did you use in your model? Did you use any dummy variables as part of your features?\n",
      "\n",
      "I used the following features with one constant added:"
     ]
    },
    {
     "cell_type": "code",
     "execution_count": null,
     "metadata": {},
     "outputs": [],
     "input": [
      "df['weekday'] = pd.to_datetime(df['DATEn']).dt.dayofweek\n",
      "features = df[['rain', 'fog', 'mintempi', 'maxtempi', 'Hour', 'weekday']]\n",
      "features = sm.add_constant(features)"
     ],
     "language": "python",
     "prompt_number": 58
    },
    {
     "cell_type": "markdown",
     "metadata": {},
     "source": [
      "2.3 Why did you select these features in your model? We are looking for specific reasons that lead you to believe that\n",
      "the selected features will contribute to the predictive power of your model.\n",
      "\n",
      "* I included 'Hour' because it increased R-squared.\n",
      "* I speculated that when it's raining or foggy or cold more people would be willing to use subway so I included 'rain' and 'fog' and 'mintempi' and 'maxtempi'.\n",
      "* I calculated and included 'weekday' because I assumed that more people may take subway on weekday. When I tried it, it also increased R-squared."
     ]
    },
    {
     "cell_type": "markdown",
     "metadata": {},
     "source": [
      "2.4 What are the parameters (also known as \"coefficients\" or \"weights\") of the non-dummy features in your linear regression model?\n",
      "2.5 What is your model’s R2 (coefficients of determination) value?\n",
      "\n",
      "I got the following results:"
     ]
    },
    {
     "cell_type": "code",
     "execution_count": null,
     "metadata": {},
     "outputs": [
      {
       "output_type": "stream",
       "stream": "stdout",
       "text": [
        "Intercept: 1210.5555703\nParameters:\nrain        -98.430754\nfog         107.991655\nmintempi    -14.933213\nmaxtempi      4.873407\nHour         59.503657\nweekday     -87.030320\ndtype: float64\nR2: 0.037767998296\n"
       ]
      }
     ],
     "input": [
      "values = df['ENTRIESn_hourly']\n",
      "model = sm.OLS(values, features)\n",
      "result = model.fit()\n",
      "intercept = result.params[0]\n",
      "params = result.params[1:]\n",
      "r_squared = result.rsquared\n",
      "\n",
      "print \"Intercept: {0}\".format(intercept)\n",
      "print \"Parameters:\"\n",
      "print params\n",
      "print \"R2: {0}\".format(r_squared)"
     ],
     "language": "python",
     "prompt_number": 60
    },
    {
     "cell_type": "markdown",
     "metadata": {},
     "source": [
      "2.6 What does this R2 value mean for the goodness of fit for your regression model? Do you think this linear model to predict ridership is appropriate for this dataset, given this R2  value?\n",
      "\n",
      "It means that the model is a bad fit. We can't use this to reliably predict values."
     ]
    },
    {
     "cell_type": "heading",
     "metadata": {},
     "level": 2,
     "source": [
      "Section 3. Visualization"
     ]
    },
    {
     "cell_type": "markdown",
     "metadata": {},
     "source": [
      "Please include two visualizations that show the relationships between two or more variables in the NYC subway data.\n",
      "Remember to add appropriate titles and axes labels to your plots. Also, please add a short description below each figure commenting on the key insights depicted in the figure.\n",
      "\n",
      "3.1 One visualization should contain two histograms: one of  ENTRIESn_hourly for rainy days and one of ENTRIESn_hourly for non-rainy days.\n",
      "\n",
      "For the histograms, you should have intervals representing the volume of ridership (value of ENTRIESn_hourly) on the x-axis and the frequency of occurrence on the y-axis. For example, each interval (along the x-axis), the height of the bar for this interval will represent the number of records (rows in our data) that have ENTRIESn_hourly that falls in this interval."
     ]
    },
    {
     "cell_type": "code",
     "execution_count": null,
     "metadata": {},
     "outputs": [
      {
       "output_type": "display_data",
       "png": "[encoded data removed]",
       "text": [
        "<matplotlib.figure.Figure at 0x7f4b59f58b50>"
       ],
       "metadata": {}
      }
     ],
     "input": [
      "fig = plt.figure()\n",
      "df_n[df_n['ENTRIESn_hourly'] < 6000]['ENTRIESn_hourly'].hist(label='No rain', alpha=0.5)\n",
      "df_r[df_r['ENTRIESn_hourly'] < 6000]['ENTRIESn_hourly'].hist(label='Rain', alpha=0.5)\n",
      "plt.legend(loc='upper right')\n",
      "fig.suptitle('Entries with and without rain')\n",
      "plt.show()"
     ],
     "language": "python",
     "prompt_number": 38
    },
    {
     "cell_type": "markdown",
     "metadata": {},
     "source": [
      "3.2 One visualization can be more freeform. You should feel free to implement something that we discussed in class (e.g., scatter plots, line plots) or attempt to implement something more advanced if you'd like. Some suggestions are:\n",
      "Ridership by time-of-day\n",
      "Ridership by day-of-week"
     ]
    },
    {
     "cell_type": "code",
     "execution_count": null,
     "metadata": {},
     "outputs": [
      {
       "output_type": "display_data",
       "png": "[encoded data removed]",
       "text": [
        "<matplotlib.figure.Figure at 0x7f4b4b1f1790>"
       ],
       "metadata": {}
      },
      {
       "output_type": "pyout",
       "prompt_number": 39,
       "text": [
        "<ggplot: (8747588081277)>"
       ],
       "metadata": {}
      }
     ],
     "input": [
      "df_dow = df[['Hour', 'weekday', 'ENTRIESn_hourly']]\n",
      "df_dow = df_dow.groupby(['Hour', 'weekday']).mean()\n",
      "df_dow = df_dow.reset_index()\n",
      "\n",
      "ggplot(df_dow, aes(x='Hour', y='ENTRIESn_hourly')) + \\\n",
      "    geom_point(color='blue', alpha=0.5) + \\\n",
      "    xlab('Hour') + \\\n",
      "    ylab('Entries') + \\\n",
      "    ggtitle('Turnstile entries by hour each day of week') + \\\n",
      "    facet_wrap('weekday', scales='fixed')"
     ],
     "language": "python",
     "prompt_number": 39
    },
    {
     "cell_type": "heading",
     "metadata": {},
     "level": 2,
     "source": [
      "Section 4. Conclusion"
     ]
    },
    {
     "cell_type": "markdown",
     "metadata": {},
     "source": [
      "Please address the following questions in detail. Your answers should be 1-2 paragraphs long.\n",
      "\n",
      "4.1 From your analysis and interpretation of the data, do more people ride the NYC subway when it is raining or when it is not raining?\n",
      "\n",
      "It seems to be the case, because the means and the shapes of rider distributions with and without rain are significantly different according to Mann-Whitney U-test.\n",
      "\n",
      "4.2 What analyses lead you to this conclusion? You should use results from both your statistical tests and your linear regression to support your analysis.\n",
      "\n",
      "The probability of getting the U-value above was 0.02 which is less than critical value of 0.05. That suggests that the difference in two compared samples is significunt. However, I was not able to fit a good model to predict ridership. Also, when trying variable factors, those of \"rain\" and \"precipi\" didn't have much effect on R-squared value."
     ]
    },
    {
     "cell_type": "heading",
     "metadata": {},
     "level": 2,
     "source": [
      "Section 5. Reflection"
     ]
    },
    {
     "cell_type": "markdown",
     "metadata": {},
     "source": [
      "Please address the following questions in detail. Your answers should be 1-2 paragraphs long.\n",
      "\n",
      "5.1 Please discuss potential shortcomings of the methods of your analysis, including:\n",
      "\n",
      "Dataset,\n",
      "Analysis, such as the linear regression model or statistical test.\n",
      "\n",
      "In our dataset, according to the notes, ENTRIESn value \"occasionally resets to 0\". This means that our hourly entries value is not necessarily accurate. The linear model may also not be a good fit. Dependency between the factors we have and the data observed may be not linear in nature. Or, there may be other factors in play that we're not accounting for. For example, what if subway fare increased during the time we observed. What if more buses were added to cover the same routes. What if some stations were closed on some days."
     ]
    },
    {
     "cell_type": "code",
     "execution_count": null,
     "metadata": {},
     "outputs": [],
     "input": [
      ""
     ],
     "language": "python"
    }
   ]
  }
 ],
 "cells": [],
 "metadata": {},
 "nbformat": 3,
 "nbformat_minor": 0
}